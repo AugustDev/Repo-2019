{
 "cells": [
  {
   "cell_type": "code",
   "execution_count": 1,
   "metadata": {},
   "outputs": [],
   "source": [
    "#import os\n",
    "#os.environ['PYSPARK_PYTHON'] = '/opt/conda/bin/python'"
   ]
  },
  {
   "cell_type": "code",
   "execution_count": 2,
   "metadata": {},
   "outputs": [],
   "source": [
    "import subprocess\n",
    "import sys\n",
    "import os\n",
    "import re\n",
    "import time\n",
    "import atexit\n",
    "import seaborn as sns\n",
    "import matplotlib.pyplot as plt\n",
    "\n",
    "from pyspark import SparkConf\n",
    "from pyspark import SparkContext\n",
    "from pyspark import SQLContext\n",
    "import pyspark.sql.functions as F\n",
    "from pyspark.sql.functions import concat, col, udf, lag, date_add, explode, lit, unix_timestamp\n",
    "from pyspark.sql.functions import month, weekofyear, dayofmonth\n",
    "from pyspark.sql.types import *\n",
    "from pyspark.sql.types import DateType\n",
    "from pyspark.sql.dataframe import *\n",
    "from pyspark.sql.window import Window\n",
    "from pyspark.sql import Row\n",
    "from pyspark.ml.classification import *\n",
    "from pyspark.ml.feature import StringIndexer, OneHotEncoder, VectorAssembler, VectorIndexer\n",
    "from pyspark.ml.feature import StandardScaler, PCA, RFormula\n",
    "from pyspark.ml import Pipeline, PipelineModel\n",
    "from pyspark.sql.functions import col, avg"
   ]
  },
  {
   "cell_type": "code",
   "execution_count": 3,
   "metadata": {},
   "outputs": [],
   "source": [
    "from pyspark import sql, SparkConf, SparkContext\n",
    "\n",
    "conf = SparkConf().setAppName(\"Read_CSV\")\n",
    "sc = SparkContext(conf=conf)\n",
    "sqlContext = sql.SQLContext(sc)"
   ]
  },
  {
   "cell_type": "code",
   "execution_count": 4,
   "metadata": {},
   "outputs": [],
   "source": [
    "dataFile = \"/home/rubens/Documents/Python/DadosTeseLogit.csv\"\n",
    "dataFileSep = ','\n",
    "df = sqlContext.read.csv(dataFile, header=True, sep=dataFileSep, inferSchema=True, nanValue=\"\", mode='PERMISSIVE')"
   ]
  },
  {
   "cell_type": "code",
   "execution_count": 5,
   "metadata": {},
   "outputs": [
    {
     "data": {
      "text/plain": [
       "(98, 31)"
      ]
     },
     "execution_count": 5,
     "metadata": {},
     "output_type": "execute_result"
    }
   ],
   "source": [
    "df.count(), len(df.columns)"
   ]
  },
  {
   "cell_type": "code",
   "execution_count": 6,
   "metadata": {},
   "outputs": [
    {
     "name": "stdout",
     "output_type": "stream",
     "text": [
      "+------------+------------+-----------+------------+----------+----------+---------+-----------+-----------+--------+-----------+-----------+-----------+----------+-----------+----------+----------+----------+--------+----------+------------+---------+----------+-----------+-----------+----------+-----------+-----------+--------+-----------+--------+\n",
      "|c0_objetivos|c0_responsab|c0_esperado|c0_participa|c0_coopera|c0_cuidado|c0_prazer|c0_presente|c0_personal|c0_saber|c0_bemestar|c0_desagrad|c0_problema|c0_instala|c0_disponib|c0_equipam|c0_higiene|c0_pontual|c0_dados|c0_atencao|c0_confianca|c0_ajudar|c0_honesto|c0_preocupa|c0_respfunc|c0_adaptar|c0_positiva|c0_estimula|c0_preco|c0_recomend|selected|\n",
      "+------------+------------+-----------+------------+----------+----------+---------+-----------+-----------+--------+-----------+-----------+-----------+----------+-----------+----------+----------+----------+--------+----------+------------+---------+----------+-----------+-----------+----------+-----------+-----------+--------+-----------+--------+\n",
      "|    6.471247|    6.471247|          5|           5|         5|  6.471247|        4|          4|          4|       3|          5|   6.471247|   6.471247|         5|          5|         5|  6.471247|         5|       5|         5|    6.471247| 6.471247|         5|          5|          5|         5|   6.471247|          5|       4|   6.471247|       1|\n",
      "+------------+------------+-----------+------------+----------+----------+---------+-----------+-----------+--------+-----------+-----------+-----------+----------+-----------+----------+----------+----------+--------+----------+------------+---------+----------+-----------+-----------+----------+-----------+-----------+--------+-----------+--------+\n",
      "only showing top 1 row\n",
      "\n"
     ]
    }
   ],
   "source": [
    "df.show(1)"
   ]
  },
  {
   "cell_type": "code",
   "execution_count": 7,
   "metadata": {},
   "outputs": [
    {
     "data": {
      "text/plain": [
       "[('c0_objetivos', 'double'),\n",
       " ('c0_responsab', 'double'),\n",
       " ('c0_esperado', 'int'),\n",
       " ('c0_participa', 'int'),\n",
       " ('c0_coopera', 'int'),\n",
       " ('c0_cuidado', 'double'),\n",
       " ('c0_prazer', 'int'),\n",
       " ('c0_presente', 'int'),\n",
       " ('c0_personal', 'int'),\n",
       " ('c0_saber', 'int'),\n",
       " ('c0_bemestar', 'int'),\n",
       " ('c0_desagrad', 'double'),\n",
       " ('c0_problema', 'double'),\n",
       " ('c0_instala', 'int'),\n",
       " ('c0_disponib', 'int'),\n",
       " ('c0_equipam', 'int'),\n",
       " ('c0_higiene', 'double'),\n",
       " ('c0_pontual', 'int'),\n",
       " ('c0_dados', 'int'),\n",
       " ('c0_atencao', 'int'),\n",
       " ('c0_confianca', 'double'),\n",
       " ('c0_ajudar', 'double'),\n",
       " ('c0_honesto', 'int'),\n",
       " ('c0_preocupa', 'int'),\n",
       " ('c0_respfunc', 'int'),\n",
       " ('c0_adaptar', 'int'),\n",
       " ('c0_positiva', 'double'),\n",
       " ('c0_estimula', 'int'),\n",
       " ('c0_preco', 'int'),\n",
       " ('c0_recomend', 'double'),\n",
       " ('selected', 'int')]"
      ]
     },
     "execution_count": 7,
     "metadata": {},
     "output_type": "execute_result"
    }
   ],
   "source": [
    "df.dtypes"
   ]
  },
  {
   "cell_type": "code",
   "execution_count": 8,
   "metadata": {},
   "outputs": [],
   "source": [
    "df = df.dropna(how='any')"
   ]
  },
  {
   "cell_type": "code",
   "execution_count": 9,
   "metadata": {},
   "outputs": [
    {
     "data": {
      "text/plain": [
       "DataFrame[c0_objetivos: double, c0_responsab: double, c0_esperado: int, c0_participa: int, c0_coopera: int, c0_cuidado: double, c0_prazer: int, c0_presente: int, c0_personal: int, c0_saber: int, c0_bemestar: int, c0_desagrad: double, c0_problema: double, c0_instala: int, c0_disponib: int, c0_equipam: int, c0_higiene: double, c0_pontual: int, c0_dados: int, c0_atencao: int, c0_confianca: double, c0_ajudar: double, c0_honesto: int, c0_preocupa: int, c0_respfunc: int, c0_adaptar: int, c0_positiva: double, c0_estimula: int, c0_preco: int, c0_recomend: double, selected: int]"
      ]
     },
     "execution_count": 9,
     "metadata": {},
     "output_type": "execute_result"
    }
   ],
   "source": [
    "def fill_with_mean(df, exclude=set()): \n",
    "    stats = df.agg(*(\n",
    "        avg(c).alias(c) for c in df.columns if c not in exclude\n",
    "    ))\n",
    "    return df.na.fill(stats.first().asDict())\n",
    "\n",
    "fill_with_mean(df, [\"c0_preco\"])"
   ]
  },
  {
   "cell_type": "code",
   "execution_count": 10,
   "metadata": {},
   "outputs": [],
   "source": [
    "from pyspark.sql.types import *\n",
    "\n",
    "df.createOrReplaceTempView(\"df1\")\n",
    "\n",
    "sqlStatement = \"\"\"\n",
    "    SELECT c0_atencao, c0_esperado, c0_preco FROM df1 WHERE df1.selected=='1'\n",
    "\"\"\"\n",
    "plotdata = sqlContext.sql(sqlStatement).toPandas();"
   ]
  },
  {
   "cell_type": "code",
   "execution_count": 11,
   "metadata": {},
   "outputs": [
    {
     "data": {
      "image/png": "[encoded data removed]",
      "text/plain": [
       "<Figure size 432x288 with 1 Axes>"
      ]
     },
     "metadata": {
      "needs_background": "light"
     },
     "output_type": "display_data"
    },
    {
     "data": {
      "text/plain": [
       "<Figure size 288x288 with 0 Axes>"
      ]
     },
     "metadata": {},
     "output_type": "display_data"
    },
    {
     "data": {
      "image/png": "[encoded data removed]",
      "text/plain": [
       "<Figure size 432x288 with 1 Axes>"
      ]
     },
     "metadata": {
      "needs_background": "light"
     },
     "output_type": "display_data"
    },
    {
     "data": {
      "text/plain": [
       "<Figure size 288x288 with 0 Axes>"
      ]
     },
     "metadata": {},
     "output_type": "display_data"
    },
    {
     "data": {
      "text/plain": [
       "<matplotlib.axes._subplots.AxesSubplot at 0x7fda740e7208>"
      ]
     },
     "execution_count": 11,
     "metadata": {},
     "output_type": "execute_result"
    },
    {
     "data": {
      "image/png": "[encoded data removed]",
      "text/plain": [
       "<Figure size 432x288 with 2 Axes>"
      ]
     },
     "metadata": {
      "needs_background": "light"
     },
     "output_type": "display_data"
    }
   ],
   "source": [
    "\n",
    "\n",
    "%matplotlib inline\n",
    "\n",
    "# show histogram distribution of some features\n",
    "ax1 = plotdata[['c0_atencao']].plot(kind='hist', bins=5, facecolor='blue')\n",
    "ax1.set_title('c0_atencao distribution')\n",
    "ax1.set_xlabel('number of problem_type_1 per day'); ax1.set_ylabel('Counts');\n",
    "plt.figure(figsize=(4,4)); plt.suptitle(''); plt.show()\n",
    "\n",
    "ax1 = plotdata[['c0_esperado']].plot(kind='hist', bins=5, facecolor='blue')\n",
    "ax1.set_title('c0_esperado distribution')\n",
    "ax1.set_xlabel('number of problem_type_2 per day'); ax1.set_ylabel('Counts');\n",
    "plt.figure(figsize=(4,4)); plt.suptitle(''); plt.show()\n",
    "\n",
    "\n",
    "# show correlation matrix heatmap to explore some potential interesting patterns\n",
    "corr = plotdata.corr()\n",
    "sns.heatmap(corr, \n",
    "            xticklabels=corr.columns.values,\n",
    "            yticklabels=corr.columns.values)"
   ]
  },
  {
   "cell_type": "code",
   "execution_count": 12,
   "metadata": {},
   "outputs": [
    {
     "name": "stdout",
     "output_type": "stream",
     "text": [
      "+----------+-----+\n",
      "|c0_atencao|count|\n",
      "+----------+-----+\n",
      "|         1|    1|\n",
      "|         3|    8|\n",
      "|         5|   71|\n",
      "|         4|   17|\n",
      "|         2|    1|\n",
      "+----------+-----+\n",
      "\n"
     ]
    }
   ],
   "source": [
    "df.groupby('c0_atencao').count().show()\n"
   ]
  },
  {
   "cell_type": "code",
   "execution_count": 13,
   "metadata": {},
   "outputs": [],
   "source": [
    "import pyspark.sql.functions as F\n",
    "import time\n",
    "import pandas as pd\n",
    "import subprocess\n",
    "import sys\n",
    "import os\n",
    "import re\n",
    "import matplotlib.pyplot as plt\n",
    "import numpy as np\n",
    "import datetime\n",
    "import atexit\n",
    "\n",
    "from pyspark import SparkConf\n",
    "from pyspark import SparkContext\n",
    "from pyspark import SQLContext\n",
    "from pyspark.sql.types import *\n",
    "from pyspark.sql.functions import col,udf,lag,date_add,explode,lit,concat,unix_timestamp,sum, abs\n",
    "from pandas import DataFrame\n",
    "from pyspark.sql.dataframe import *\n",
    "from pyspark.ml.classification import *\n",
    "from pyspark.ml.feature import VectorAssembler\n",
    "from pyspark.sql.window import Window\n",
    "from pyspark.sql.types import DateType\n",
    "from pyspark.ml import Pipeline\n",
    "from pyspark.ml.feature import StringIndexer, OneHotEncoder\n",
    "from pyspark.ml.evaluation import *\n",
    "from pyspark.ml.tuning import CrossValidator\n",
    "from pyspark.ml.tuning import ParamGridBuilder\n",
    "from pyspark.sql import Row\n",
    "from pyspark.ml import Pipeline, PipelineModel\n",
    "from pyspark.mllib.evaluation import BinaryClassificationMetrics\n",
    "from pyspark.ml.feature import OneHotEncoder, StringIndexer, VectorIndexer, RFormula\n",
    "from pyspark.ml.tuning import CrossValidator, ParamGridBuilder\n",
    "from sklearn.metrics import roc_curve,auc\n",
    "from pyspark.sql.functions import month, weekofyear, dayofmonth\n",
    "from pyspark.ml.feature import ChiSqSelector\n",
    "from pyspark.ml.linalg import Vectors\n",
    "from pyspark.ml.feature import StandardScaler\n",
    "from pyspark.ml.feature import PCA\n",
    "from pyspark.ml.feature import MinMaxScaler\n",
    "from pyspark.sql.types import DoubleType\n",
    "from pyspark.ml.classification import RandomForestClassifier\n",
    "from pyspark.ml.evaluation import MulticlassClassificationEvaluator\n",
    "from pyspark.ml.classification import GBTClassifier\n",
    "from sklearn.metrics import precision_recall_fscore_support as score\n",
    "from sklearn.model_selection import GridSearchCV\n",
    "from sklearn.model_selection import ParameterGrid\n",
    "from pyspark.ml import Pipeline\n",
    "from pyspark.ml.classification import RandomForestClassifier\n",
    "from pyspark.ml.feature import IndexToString, StringIndexer, VectorIndexer\n",
    "from pyspark.ml.evaluation import MulticlassClassificationEvaluator"
   ]
  },
  {
   "cell_type": "code",
   "execution_count": 14,
   "metadata": {},
   "outputs": [
    {
     "name": "stdout",
     "output_type": "stream",
     "text": [
      "+-------+------------------+\n",
      "|summary|       c0_recomend|\n",
      "+-------+------------------+\n",
      "|  count|                98|\n",
      "|   mean| 5.840768040816339|\n",
      "| stddev|1.3793775482272992|\n",
      "|    min|         1.5481445|\n",
      "|    max|          6.471247|\n",
      "+-------+------------------+\n",
      "\n"
     ]
    }
   ],
   "source": [
    "df.select('c0_recomend').describe().show()"
   ]
  },
  {
   "cell_type": "code",
   "execution_count": 15,
   "metadata": {},
   "outputs": [
    {
     "name": "stdout",
     "output_type": "stream",
     "text": [
      "+--------+-----+\n",
      "|selected|count|\n",
      "+--------+-----+\n",
      "|       1|   80|\n",
      "|       0|   18|\n",
      "+--------+-----+\n",
      "\n"
     ]
    }
   ],
   "source": [
    "df.groupby('selected').count().show()"
   ]
  },
  {
   "cell_type": "code",
   "execution_count": 16,
   "metadata": {},
   "outputs": [],
   "source": [
    "input_features=df.columns[2:28]\n",
    "y=df.columns[30]\n",
    "label_var = ['selected']"
   ]
  },
  {
   "cell_type": "code",
   "execution_count": 17,
   "metadata": {},
   "outputs": [],
   "source": [
    "va = VectorAssembler(inputCols=(input_features), outputCol='features')"
   ]
  },
  {
   "cell_type": "code",
   "execution_count": null,
   "metadata": {},
   "outputs": [],
   "source": []
  },
  {
   "cell_type": "code",
   "execution_count": 18,
   "metadata": {},
   "outputs": [],
   "source": [
    "va2 = VectorAssembler(inputCols=([y]), outputCol='label')"
   ]
  },
  {
   "cell_type": "code",
   "execution_count": 19,
   "metadata": {},
   "outputs": [],
   "source": [
    "df = va.transform(df)\n",
    "df2 = va2.transform(df.withColumn(\"selected\",df[\"selected\"].cast(\"int\")))"
   ]
  },
  {
   "cell_type": "code",
   "execution_count": 20,
   "metadata": {},
   "outputs": [],
   "source": [
    "featureIndexer = VectorIndexer(inputCol=\"features\", \n",
    "                               outputCol=\"indexedFeatures\", maxCategories=10).fit(df)"
   ]
  },
  {
   "cell_type": "code",
   "execution_count": null,
   "metadata": {},
   "outputs": [],
   "source": []
  },
  {
   "cell_type": "code",
   "execution_count": null,
   "metadata": {},
   "outputs": [],
   "source": []
  },
  {
   "cell_type": "code",
   "execution_count": null,
   "metadata": {},
   "outputs": [],
   "source": []
  },
  {
   "cell_type": "code",
   "execution_count": null,
   "metadata": {},
   "outputs": [],
   "source": []
  },
  {
   "cell_type": "code",
   "execution_count": 21,
   "metadata": {},
   "outputs": [],
   "source": [
    "labelIndexer = StringIndexer(inputCol=\"selected\", outputCol=\"indexedLabel\").fit(df2)"
   ]
  },
  {
   "cell_type": "code",
   "execution_count": null,
   "metadata": {},
   "outputs": [],
   "source": []
  },
  {
   "cell_type": "code",
   "execution_count": null,
   "metadata": {},
   "outputs": [],
   "source": []
  },
  {
   "cell_type": "code",
   "execution_count": 22,
   "metadata": {},
   "outputs": [],
   "source": [
    "#changedTypedf = df.withColumn(\"c0_atencao\",df[\"c0_atencao\"].cast(\"int\"))"
   ]
  },
  {
   "cell_type": "code",
   "execution_count": null,
   "metadata": {},
   "outputs": [],
   "source": []
  },
  {
   "cell_type": "code",
   "execution_count": 23,
   "metadata": {},
   "outputs": [],
   "source": [
    "(trainingData, testData) = df.randomSplit([0.7, 0.3])"
   ]
  },
  {
   "cell_type": "code",
   "execution_count": 24,
   "metadata": {},
   "outputs": [],
   "source": [
    "rf = RandomForestClassifier(labelCol=\"indexedLabel\", featuresCol=\"indexedFeatures\", numTrees=10)"
   ]
  },
  {
   "cell_type": "code",
   "execution_count": 25,
   "metadata": {},
   "outputs": [],
   "source": [
    "labelConverter = IndexToString(inputCol=\"prediction\", outputCol=\"predictedLabel\",\n",
    "                               labels=labelIndexer.labels)"
   ]
  },
  {
   "cell_type": "code",
   "execution_count": null,
   "metadata": {},
   "outputs": [],
   "source": []
  },
  {
   "cell_type": "code",
   "execution_count": 26,
   "metadata": {},
   "outputs": [],
   "source": [
    "pipeline = Pipeline(stages=[labelIndexer, featureIndexer, rf, labelConverter])\n",
    "\n",
    "model = pipeline.fit(trainingData)"
   ]
  },
  {
   "cell_type": "code",
   "execution_count": 27,
   "metadata": {},
   "outputs": [],
   "source": [
    "predictions = model.transform(testData)\n"
   ]
  },
  {
   "cell_type": "code",
   "execution_count": 28,
   "metadata": {},
   "outputs": [
    {
     "name": "stdout",
     "output_type": "stream",
     "text": [
      "+------------+----------+-----+\n",
      "|indexedLabel|prediction|count|\n",
      "+------------+----------+-----+\n",
      "|         1.0|       0.0|    4|\n",
      "|         0.0|       0.0|   21|\n",
      "+------------+----------+-----+\n",
      "\n"
     ]
    }
   ],
   "source": [
    "predictions.groupby('indexedLabel', 'prediction').count().show()"
   ]
  },
  {
   "cell_type": "code",
   "execution_count": 29,
   "metadata": {},
   "outputs": [
    {
     "name": "stdout",
     "output_type": "stream",
     "text": [
      "Area under ROC = 0\n",
      "Area under PR = 0\n",
      "\n",
      "Accuracy = 0.84\n",
      "Weighted Precision = 0.7056\n",
      "Weighted Recall = 0.84\n",
      "F1 = 0.766957\n"
     ]
    }
   ],
   "source": [
    "predictionAndLabels = predictions.select(\"indexedLabel\", \"prediction\").rdd\n",
    "metrics = BinaryClassificationMetrics(predictionAndLabels)\n",
    "print(\"Area under ROC = %g\" % metrics.areaUnderROC)\n",
    "print(\"Area under PR = %g\\n\" % metrics.areaUnderPR)\n",
    "\n",
    "evaluator = MulticlassClassificationEvaluator(labelCol=\"indexedLabel\", predictionCol=\"prediction\")\n",
    "print(\"Accuracy = %g\" % evaluator.evaluate(predictions, {evaluator.metricName: \"accuracy\"}))\n",
    "print(\"Weighted Precision = %g\" % evaluator.evaluate(predictions, {evaluator.metricName: \"weightedPrecision\"}))\n",
    "print(\"Weighted Recall = %g\" % evaluator.evaluate(predictions, {evaluator.metricName: \"weightedRecall\"}))\n",
    "print(\"F1 = %g\" % evaluator.evaluate(predictions, {evaluator.metricName: \"f1\"}))\n",
    "\n"
   ]
  },
  {
   "cell_type": "code",
   "execution_count": 30,
   "metadata": {},
   "outputs": [
    {
     "data": {
      "image/png": "[encoded data removed]",
      "text/plain": [
       "<Figure size 360x360 with 1 Axes>"
      ]
     },
     "metadata": {
      "needs_background": "light"
     },
     "output_type": "display_data"
    }
   ],
   "source": [
    "%matplotlib inline\n",
    "predictions_pddf = predictions.select('indexedLabel','probability').toPandas()\n",
    "labels = predictions_pddf[\"indexedLabel\"]\n",
    "prob = []\n",
    "for dv in predictions_pddf[\"probability\"]:\n",
    "    prob.append(dv.values[1])\n",
    "     \n",
    "fpr, tpr, thresholds = roc_curve(labels, prob, pos_label=1.0);\n",
    "roc_auc = auc(fpr, tpr)\n",
    "\n",
    "plt.figure(figsize=(5, 5))\n",
    "plt.plot(fpr, tpr, label='ROC curve (area = %0.2f)' % roc_auc)\n",
    "plt.plot([0, 1], [0, 1], 'k--')\n",
    "plt.xlim([0.0, 1.0])\n",
    "plt.ylim([0.0, 1.05])\n",
    "plt.xlabel('False Positive Rate')\n",
    "plt.ylabel('True Positive Rate')\n",
    "plt.title('ROC Curve')\n",
    "plt.legend(loc=\"lower right\")\n",
    "plt.show()"
   ]
  }
 ],
 "metadata": {
  "kernelspec": {
   "display_name": "Python 3",
   "language": "python",
   "name": "python3"
  },
  "language_info": {
   "codemirror_mode": {
    "name": "ipython",
    "version": 3
   },
   "file_extension": ".py",
   "mimetype": "text/x-python",
   "name": "python",
   "nbconvert_exporter": "python",
   "pygments_lexer": "ipython3",
   "version": "3.6.8"
  }
 },
 "nbformat": 4,
 "nbformat_minor": 2
}
